{
 "cells": [
  {
   "cell_type": "markdown",
   "id": "prompt-netherlands",
   "metadata": {},
   "source": [
    "## Query PubMed and get abstract information"
   ]
  },
  {
   "cell_type": "code",
   "execution_count": 1,
   "id": "heard-logic",
   "metadata": {},
   "outputs": [],
   "source": [
    "from Bio import Entrez\n",
    "import pandas as pd\n",
    "import json\n",
    "import tqdm\n",
    "import copy\n",
    "from pprint import pprint"
   ]
  },
  {
   "cell_type": "code",
   "execution_count": 2,
   "id": "quality-niger",
   "metadata": {},
   "outputs": [],
   "source": [
    "%config Completer.use_jedi = False"
   ]
  },
  {
   "cell_type": "code",
   "execution_count": 3,
   "id": "mysterious-favor",
   "metadata": {},
   "outputs": [],
   "source": [
    "def search(term='query',db='pubmed', sort='relevance',retmax=500,retmode='xml',):\n",
    "    Entrez.email='zhijun.cao@fda.hhs.gov'\n",
    "    handle = Entrez.esearch(db=db,\n",
    "                           sort=sort,\n",
    "                           retmax=retmax,\n",
    "                           retmode=retmode,\n",
    "                           term=term)\n",
    "    results = Entrez.read(handle)\n",
    "    return results"
   ]
  },
  {
   "cell_type": "code",
   "execution_count": 4,
   "id": "enabling-orientation",
   "metadata": {},
   "outputs": [],
   "source": [
    "def fetch_details(id=[], db='pubmed', retmode='xml', retmax=100000):\n",
    "    Entrez.email = 'zhijun.cao@fda.hhs.gov'\n",
    "    handle = Entrez.efetch(db=db,\n",
    "                           retmode=retmode,\n",
    "                           id=id,\n",
    "                           retmax=retmax)\n",
    "    results = Entrez.read(handle)\n",
    "    return results"
   ]
  },
  {
   "cell_type": "code",
   "execution_count": 12,
   "id": "exclusive-cause",
   "metadata": {},
   "outputs": [],
   "source": [
    "tem =fetch_details(id=\"33707255\")\n"
   ]
  },
  {
   "cell_type": "code",
   "execution_count": 13,
   "id": "logical-elder",
   "metadata": {},
   "outputs": [],
   "source": [
    "#pprint(json.dumps(tem, indent=2))"
   ]
  },
  {
   "cell_type": "code",
   "execution_count": 5,
   "id": "transparent-usage",
   "metadata": {},
   "outputs": [],
   "source": [
    "import itertools\n",
    "def split_seq(iterable, size):\n",
    "    it = iter(iterable)\n",
    "    item = list(itertools.islice(it, size))\n",
    "    while item:\n",
    "        yield item\n",
    "        item = list(itertools.islice(it, size))"
   ]
  },
  {
   "cell_type": "code",
   "execution_count": null,
   "id": "gentle-reduction",
   "metadata": {},
   "outputs": [],
   "source": []
  },
  {
   "cell_type": "code",
   "execution_count": 170,
   "id": "overall-distance",
   "metadata": {},
   "outputs": [],
   "source": [
    "def flatten_lists(mylist):\n",
    "    for low in mylist:\n",
    "        for lower in low:\n",
    "            yield lower\n",
    "            \n",
    "def chunks(mylist, size):\n",
    "    length = len(mylist)\n",
    "    for i in range(0, len(mylist), size):\n",
    "        yield mylist[i:i + size]    "
   ]
  },
  {
   "cell_type": "code",
   "execution_count": 6,
   "id": "motivated-tennis",
   "metadata": {},
   "outputs": [],
   "source": [
    "def xml_to_DataFrame(papers):\n",
    "    abstracts=[]\n",
    "    for paper in tqdm.tqdm(papers['PubmedArticle']):\n",
    "        article = paper['MedlineCitation']['Article']\n",
    "        pmid = paper['MedlineCitation']['PMID'][:]\n",
    "        title = article['ArticleTitle']\n",
    "        keywords = paper['MedlineCitation'][\"KeywordList\"]\n",
    "        if len(keywords)>0:\n",
    "            keywords = ' '.join(keywords[0])\n",
    "        else:\n",
    "            keywords = None\n",
    "        try:\n",
    "            abstract = article['Abstract']['AbstractText'][0]\n",
    "        except:\n",
    "            abstract = None\n",
    "        journal = article[\"Journal\"]['Title']\n",
    "        try:\n",
    "            date = pd.to_datetime(pd.DataFrame(paper[\"PubmedData\"]['History'])).iloc[-1]               \n",
    "        except:\n",
    "            date =None\n",
    "        try:\n",
    "            ArticleIds ='_'.join(paper[\"PubmedData\"]['ArticleIdList'])\n",
    "        except:\n",
    "            ArticleIds =None\n",
    "        authors = get_authors(paper)\n",
    "        abstracts.append([pmid,title,abstract, keywords, journal, authors[0], authors[1], ArticleIds, date])\n",
    "    df = pd.DataFrame(abstracts,columns=['pmid', 'Title', 'Abstract', 'Keywords','Journal','Authors', 'Affiliations','ArticleIds', 'LatestDate'])\n",
    "    \n",
    "    return df   \n"
   ]
  },
  {
   "cell_type": "code",
   "execution_count": 7,
   "id": "worth-samuel",
   "metadata": {},
   "outputs": [],
   "source": [
    "#paper = paper1['PubmedArticle'][48]\n",
    "\n",
    "def get_authors(paper):\n",
    "    try:\n",
    "        authors = paper['MedlineCitation']['Article']['AuthorList']\n",
    "        auths=[]\n",
    "        affiliations=[]\n",
    "        for auth in authors:\n",
    "            if len(auth['AffiliationInfo'])>0:\n",
    "                affiliation = auth['AffiliationInfo'][0]['Affiliation']\n",
    "            else:\n",
    "                affiliation = \"NA\"\n",
    "            if 'ForeName' in auth.keys():\n",
    "                forename = auth['ForeName']\n",
    "            else:\n",
    "                forename = \"NA\"\n",
    "        \n",
    "            if 'LastName' in auth.keys():\n",
    "                lastname = auth['LastName']\n",
    "            else:\n",
    "                lastname = \"NA\"\n",
    "            auths.append(' '.join([forename,lastname]))\n",
    "            affiliations.append(' '.join([affiliation]))\n",
    "        auths_str = '\\n '.join(auths)\n",
    "        affiliations_str = '\\n '.join(affiliations)\n",
    "        return (auths_str,affiliations_str)\n",
    "    except:\n",
    "        return (\"NA\", \"NA\")\n",
    "\n",
    "#pprint(get_authors(paper))"
   ]
  },
  {
   "cell_type": "code",
   "execution_count": 357,
   "id": "introductory-failing",
   "metadata": {},
   "outputs": [],
   "source": [
    "query = '(metabolomics[Title/Abstract] OR proteomics[Title/Abstract]) AND (toxicity[Title/Abstract])'\n",
    "results = search(term=query, retmax=5000)\n",
    "id_list = results['IdList']\n"
   ]
  },
  {
   "cell_type": "code",
   "execution_count": 361,
   "id": "liberal-radar",
   "metadata": {},
   "outputs": [],
   "source": [
    "covid_query = '(\"SARS-CoV-2\"[Title/Abstract] OR \"COVID-19\"[Title/Abstract]) AND (fha[Filter])'\n",
    "covid_results = search(term=covid_query, retmax=100000)"
   ]
  },
  {
   "cell_type": "code",
   "execution_count": 176,
   "id": "existing-seventh",
   "metadata": {},
   "outputs": [],
   "source": [
    "cardio_prot_query = '(\"cardiotoxicity\"[Title/Abstract] and \"proteomics\"[Title/Abstract])'"
   ]
  },
  {
   "cell_type": "code",
   "execution_count": 177,
   "id": "finished-accreditation",
   "metadata": {},
   "outputs": [],
   "source": [
    "cardio_prot_result = search(term=cardio_prot_query, retmax=100000)"
   ]
  },
  {
   "cell_type": "code",
   "execution_count": 178,
   "id": "inclusive-curve",
   "metadata": {},
   "outputs": [
    {
     "data": {
      "text/plain": [
       "{'Count': '42', 'RetMax': '42', 'RetStart': '0', 'IdList': ['33536059', '33395532', '33362553', '32894303', '32750582', '32981093', '33110475', '33036158', '32963697', '32642841', '31098627', '32410562', '30659585', '30655328', '29802472', '29385562', '29321375', '28599205', '29051215', '28724793', '28246019', '27620743', '27678147', '26599915', '27183528', '27755245', '26178269', '26807534', '27356535', '26462128', '25345801', '25402641', '22970990', '22348821', '21751382', '21463615', '20105085', '20446904', '18951807', '17023274', '15209412', '12613282'], 'TranslationSet': [], 'TranslationStack': [{'Term': '\"cardiotoxicity\"[Title/Abstract]', 'Field': 'Title/Abstract', 'Count': '12300', 'Explode': 'N'}, {'Term': '\"proteomics\"[Title/Abstract]', 'Field': 'Title/Abstract', 'Count': '52124', 'Explode': 'N'}, 'AND', 'GROUP'], 'QueryTranslation': '\"cardiotoxicity\"[Title/Abstract] AND \"proteomics\"[Title/Abstract]', 'WarningList': {'OutputMessage': [], 'PhraseIgnored': ['and'], 'QuotedPhraseNotFound': []}}"
      ]
     },
     "execution_count": 178,
     "metadata": {},
     "output_type": "execute_result"
    }
   ],
   "source": [
    "cardio_prot_result['IdList']"
   ]
  },
  {
   "cell_type": "code",
   "execution_count": 179,
   "id": "changing-windsor",
   "metadata": {},
   "outputs": [],
   "source": [
    "cardio_prot_abstract = fetch_details(id=cardio_prot_result['IdList'])"
   ]
  },
  {
   "cell_type": "code",
   "execution_count": 180,
   "id": "analyzed-cooking",
   "metadata": {},
   "outputs": [
    {
     "name": "stderr",
     "output_type": "stream",
     "text": [
      "100%|██████████| 42/42 [00:00<00:00, 197.18it/s]\n"
     ]
    }
   ],
   "source": [
    "cardio_prot_abstract_df = xml_to_DataFrame(cardio_prot_abstract)"
   ]
  },
  {
   "cell_type": "code",
   "execution_count": 183,
   "id": "handy-carter",
   "metadata": {},
   "outputs": [],
   "source": [
    "cardio_prot_abstract_df.to_excel('C:/zhijuncao/R/textming/cardioprot/cardioprot_abstract.xlsx')"
   ]
  },
  {
   "cell_type": "code",
   "execution_count": null,
   "id": "amended-education",
   "metadata": {},
   "outputs": [],
   "source": []
  },
  {
   "cell_type": "code",
   "execution_count": 8,
   "id": "affecting-wallace",
   "metadata": {},
   "outputs": [],
   "source": [
    "drug_gly_query = '(\"drug resistance\"[Title/Abstract] and \"glycosylation\"[Title/Abstract])'"
   ]
  },
  {
   "cell_type": "code",
   "execution_count": 9,
   "id": "divided-finnish",
   "metadata": {},
   "outputs": [],
   "source": [
    "drug_gly_result = search(term=drug_gly_query, retmax=100000)"
   ]
  },
  {
   "cell_type": "code",
   "execution_count": 11,
   "id": "worth-fitting",
   "metadata": {},
   "outputs": [],
   "source": [
    "drug_gly_abstract = fetch_details(id=drug_gly_result['IdList'])"
   ]
  },
  {
   "cell_type": "code",
   "execution_count": 12,
   "id": "guided-therapy",
   "metadata": {},
   "outputs": [
    {
     "name": "stderr",
     "output_type": "stream",
     "text": [
      "100%|██████████| 140/140 [00:00<00:00, 231.47it/s]\n"
     ]
    }
   ],
   "source": [
    "drug_gly_abstract_df = xml_to_DataFrame(drug_gly_abstract)"
   ]
  },
  {
   "cell_type": "code",
   "execution_count": 15,
   "id": "different-tournament",
   "metadata": {},
   "outputs": [],
   "source": [
    "drug_gly_abstract_df.to_excel('C:/zhijuncao/R/textming/druggly/drug_gly_abstract.xlsx')"
   ]
  },
  {
   "cell_type": "code",
   "execution_count": null,
   "id": "confirmed-differential",
   "metadata": {},
   "outputs": [],
   "source": []
  },
  {
   "cell_type": "code",
   "execution_count": null,
   "id": "baking-completion",
   "metadata": {},
   "outputs": [],
   "source": []
  },
  {
   "cell_type": "code",
   "execution_count": 542,
   "id": "hispanic-wallpaper",
   "metadata": {},
   "outputs": [],
   "source": [
    "covid_id10000_chunk190 = list(split_seq(covid_id10000,190))"
   ]
  },
  {
   "cell_type": "code",
   "execution_count": 405,
   "id": "significant-outdoors",
   "metadata": {},
   "outputs": [],
   "source": [
    "import time"
   ]
  },
  {
   "cell_type": "code",
   "execution_count": null,
   "id": "under-horizon",
   "metadata": {},
   "outputs": [],
   "source": [
    "covid_batches=[]\n",
    "i=0\n",
    "for chunk in covid_id10000_chunk190:\n",
    "    tem = fetch_details(id=chunk)\n",
    "    covid_batches.append(tem)\n",
    "    json.dump(tem, open(f\"C:/zhijuncao/R/textming/covid_abstracts_batch{i}.json\", 'w'))\n",
    "    i = i+1\n",
    "    print (i)\n",
    "    time.sleep(30)\n",
    "    \n",
    "    "
   ]
  },
  {
   "cell_type": "code",
   "execution_count": 449,
   "id": "effective-premiere",
   "metadata": {},
   "outputs": [
    {
     "data": {
      "text/plain": [
       "327"
      ]
     },
     "execution_count": 449,
     "metadata": {},
     "output_type": "execute_result"
    }
   ],
   "source": [
    "len(covid_batches)"
   ]
  },
  {
   "cell_type": "code",
   "execution_count": null,
   "id": "instructional-cartridge",
   "metadata": {
    "scrolled": true
   },
   "outputs": [],
   "source": [
    "bind_batches = []\n",
    "for batch in tqdm.tqdm(covid_batches):\n",
    "    bind_batches.extend(xml_to_DataFrame(papers=batch).values.tolist())"
   ]
  },
  {
   "cell_type": "code",
   "execution_count": 466,
   "id": "becoming-concrete",
   "metadata": {},
   "outputs": [
    {
     "name": "stderr",
     "output_type": "stream",
     "text": [
      "100%|██████████| 9997/9997 [00:35<00:00, 282.86it/s]\n"
     ]
    }
   ],
   "source": [
    "covid_1batch = xml_to_DataFrame(papers=covid_abstracts)"
   ]
  },
  {
   "cell_type": "code",
   "execution_count": 467,
   "id": "female-domain",
   "metadata": {},
   "outputs": [],
   "source": [
    "columns = covid_1batch.columns.tolist()\n",
    "bind_batches.append(covid_1batch.values.tolist())"
   ]
  },
  {
   "cell_type": "code",
   "execution_count": 508,
   "id": "unknown-stationery",
   "metadata": {},
   "outputs": [
    {
     "data": {
      "text/plain": [
       "328"
      ]
     },
     "execution_count": 508,
     "metadata": {},
     "output_type": "execute_result"
    }
   ],
   "source": [
    "len(covid_batches)"
   ]
  },
  {
   "cell_type": "code",
   "execution_count": 509,
   "id": "canadian-symphony",
   "metadata": {},
   "outputs": [],
   "source": [
    "json.dump(covid_batches, open(\"C:/zhijuncao/R/textming/covid_abstract72053.json\", 'w'))"
   ]
  },
  {
   "cell_type": "code",
   "execution_count": 482,
   "id": "unknown-power",
   "metadata": {},
   "outputs": [],
   "source": [
    "covid_df = pd.DataFrame(list(itertools.chain(*bind_batches)),columns=columns)"
   ]
  },
  {
   "cell_type": "code",
   "execution_count": 486,
   "id": "packed-daughter",
   "metadata": {},
   "outputs": [],
   "source": [
    "covid_df.to_excel('C:/zhijuncao/R/textming/covid_abstract72053.xlsx')"
   ]
  },
  {
   "cell_type": "code",
   "execution_count": 484,
   "id": "hindu-badge",
   "metadata": {},
   "outputs": [
    {
     "name": "stdout",
     "output_type": "stream",
     "text": [
      "(72053, 9)\n"
     ]
    },
    {
     "data": {
      "text/plain": [
       "pmid                0\n",
       "Title               0\n",
       "Abstract           68\n",
       "Keywords        18502\n",
       "Journal             0\n",
       "Authors             0\n",
       "Affiliations        0\n",
       "ArticleIds          0\n",
       "LatestDate          0\n",
       "dtype: int64"
      ]
     },
     "execution_count": 484,
     "metadata": {},
     "output_type": "execute_result"
    }
   ],
   "source": [
    "print(covid_df.shape)\n",
    "covid_df.isna().sum()"
   ]
  },
  {
   "cell_type": "code",
   "execution_count": 522,
   "id": "extra-minnesota",
   "metadata": {},
   "outputs": [],
   "source": [
    "#list(itertools.chain(*list(itertools.chain(*tem))))"
   ]
  },
  {
   "cell_type": "code",
   "execution_count": 373,
   "id": "twenty-occupation",
   "metadata": {},
   "outputs": [],
   "source": [
    "pd.DataFrame({'covid':covid_id}).to_excel('C:/zhijuncao/R/textming/covid_id.xlsx')"
   ]
  },
  {
   "cell_type": "code",
   "execution_count": 369,
   "id": "split-heavy",
   "metadata": {},
   "outputs": [
    {
     "name": "stderr",
     "output_type": "stream",
     "text": [
      "100%|██████████| 72119/72119 [00:00<00:00, 3275817.74it/s]\n"
     ]
    }
   ],
   "source": [
    "covid_abstracts = fetch_details(id=covid_id) "
   ]
  },
  {
   "cell_type": "code",
   "execution_count": 370,
   "id": "polished-litigation",
   "metadata": {},
   "outputs": [],
   "source": [
    "json.dump(covid_abstracts, open(\"C:/zhijuncao/R/textming/covid_abstracts.json\", 'w'))"
   ]
  },
  {
   "cell_type": "code",
   "execution_count": 371,
   "id": "frequent-profit",
   "metadata": {},
   "outputs": [
    {
     "name": "stderr",
     "output_type": "stream",
     "text": [
      "100%|██████████| 9997/9997 [00:30<00:00, 322.87it/s]\n"
     ]
    }
   ],
   "source": [
    "covid_abstracts_df = xml_to_DataFrame(covid_abstracts)"
   ]
  },
  {
   "cell_type": "code",
   "execution_count": 374,
   "id": "dutch-economics",
   "metadata": {},
   "outputs": [
    {
     "data": {
      "text/plain": [
       "(9997, 8)"
      ]
     },
     "execution_count": 374,
     "metadata": {},
     "output_type": "execute_result"
    }
   ],
   "source": [
    "covid_abstracts_df.shape"
   ]
  },
  {
   "cell_type": "code",
   "execution_count": 377,
   "id": "suffering-antibody",
   "metadata": {},
   "outputs": [],
   "source": [
    "covid_abstracts_df.to_excel('C:/zhijuncao/R/textming/covid_absract9997.xlsx')"
   ]
  },
  {
   "cell_type": "code",
   "execution_count": null,
   "id": "grand-apartment",
   "metadata": {},
   "outputs": [],
   "source": []
  },
  {
   "cell_type": "code",
   "execution_count": 368,
   "id": "cutting-leadership",
   "metadata": {},
   "outputs": [],
   "source": [
    "papers = fetch_details(id=id_list)    "
   ]
  },
  {
   "cell_type": "code",
   "execution_count": 407,
   "id": "crucial-reporter",
   "metadata": {},
   "outputs": [],
   "source": [
    "json.dump(papers, open(\"C:/zhijuncao/R/textming/tem.json\", 'w'))"
   ]
  },
  {
   "cell_type": "code",
   "execution_count": 359,
   "id": "familiar-thursday",
   "metadata": {},
   "outputs": [
    {
     "data": {
      "text/plain": [
       "dict"
      ]
     },
     "execution_count": 359,
     "metadata": {},
     "output_type": "execute_result"
    }
   ],
   "source": [
    "paper1 = json.load(open(\"C:/zhijuncao/R/textming/tem.json\",'r'))\n",
    "type(paper1)"
   ]
  },
  {
   "cell_type": "code",
   "execution_count": 318,
   "id": "operating-sherman",
   "metadata": {},
   "outputs": [],
   "source": [
    " author =paper1['PubmedArticle'][151]['MedlineCitation']['Article']['AuthorList'][1]\n",
    "    #['AffiliationInfo'] #[0]['Affiliation']"
   ]
  },
  {
   "cell_type": "code",
   "execution_count": 327,
   "id": "defined-adelaide",
   "metadata": {},
   "outputs": [
    {
     "name": "stderr",
     "output_type": "stream",
     "text": [
      "100%|██████████| 2284/2284 [00:07<00:00, 325.26it/s]\n"
     ]
    }
   ],
   "source": [
    "abstracts_df1 = xml_to_DataFrame(paper1)"
   ]
  },
  {
   "cell_type": "code",
   "execution_count": 330,
   "id": "connected-arthur",
   "metadata": {},
   "outputs": [],
   "source": [
    "abstracts_df1.to_excel(\"C:/zhijuncao/R/textming/py_metaprot.xlsx\")"
   ]
  },
  {
   "cell_type": "code",
   "execution_count": 328,
   "id": "unsigned-extra",
   "metadata": {},
   "outputs": [
    {
     "name": "stdout",
     "output_type": "stream",
     "text": [
      "(2280, 8)\n"
     ]
    },
    {
     "data": {
      "text/plain": [
       "pmid            0\n",
       "Title           0\n",
       "Abstract        0\n",
       "Journal         0\n",
       "Authors         0\n",
       "Affiliations    0\n",
       "ArticleIds      0\n",
       "LatestDate      0\n",
       "dtype: int64"
      ]
     },
     "execution_count": 328,
     "metadata": {},
     "output_type": "execute_result"
    }
   ],
   "source": [
    "abstracts_df1.dropna(subset=[\"Abstract\"], inplace=True)\n",
    "print(abstracts_df1.shape)\n",
    "abstracts_df1.isna().sum()"
   ]
  },
  {
   "cell_type": "code",
   "execution_count": null,
   "id": "understanding-sense",
   "metadata": {},
   "outputs": [],
   "source": [
    "abstracts_df1"
   ]
  },
  {
   "cell_type": "code",
   "execution_count": null,
   "id": "committed-mercy",
   "metadata": {},
   "outputs": [],
   "source": [
    "print(json.dumps(paper1['PubmedArticle'][1], indent=10))"
   ]
  },
  {
   "cell_type": "code",
   "execution_count": 112,
   "id": "certified-sponsorship",
   "metadata": {},
   "outputs": [],
   "source": []
  },
  {
   "cell_type": "markdown",
   "id": "decreased-distance",
   "metadata": {},
   "source": [
    "# get full article from science"
   ]
  },
  {
   "cell_type": "code",
   "execution_count": 29,
   "id": "instant-metabolism",
   "metadata": {},
   "outputs": [],
   "source": [
    "import requests\n",
    "from bs4 import BeautifulSoup\n",
    "import re"
   ]
  },
  {
   "cell_type": "code",
   "execution_count": null,
   "id": "inclusive-monster",
   "metadata": {},
   "outputs": [],
   "source": [
    "pmids = [33707255, 33707254, 33707252, 33707243, 33707248, 33674488, 33649167, 33632834, ]"
   ]
  },
  {
   "cell_type": "code",
   "execution_count": null,
   "id": "clear-carolina",
   "metadata": {},
   "outputs": [],
   "source": []
  },
  {
   "cell_type": "code",
   "execution_count": 72,
   "id": "offshore-detection",
   "metadata": {},
   "outputs": [],
   "source": [
    "def get_pmids(url=\"https://pubmed.ncbi.nlm.nih.gov/collections/60600504/?sort=pubdate\"):\n",
    "    url = url\n",
    "    html = requests.get(url)\n",
    "    soup = BeautifulSoup(html.content, \"html.parser\")\n",
    "    pmids = soup.find(\"meta\",attrs={\"name\":\"log_displayeduids\"}).get('content').split(sep=',')\n",
    "    return pmids"
   ]
  },
  {
   "cell_type": "code",
   "execution_count": 73,
   "id": "closing-wednesday",
   "metadata": {},
   "outputs": [],
   "source": [
    "pmids = get_pmids(url=\"https://pubmed.ncbi.nlm.nih.gov/collections/60600504/?sort=pubdate&size=200\")"
   ]
  },
  {
   "cell_type": "code",
   "execution_count": 74,
   "id": "driving-screen",
   "metadata": {},
   "outputs": [
    {
     "data": {
      "text/plain": [
       "31"
      ]
     },
     "execution_count": 74,
     "metadata": {},
     "output_type": "execute_result"
    }
   ],
   "source": [
    "len(pmids)"
   ]
  },
  {
   "cell_type": "code",
   "execution_count": 75,
   "id": "absent-journalism",
   "metadata": {},
   "outputs": [],
   "source": [
    "collection_details = fetch_details(id=pmids)"
   ]
  },
  {
   "cell_type": "code",
   "execution_count": 79,
   "id": "decimal-envelope",
   "metadata": {},
   "outputs": [
    {
     "name": "stderr",
     "output_type": "stream",
     "text": [
      "100%|██████████| 31/31 [00:00<00:00, 176.14it/s]\n"
     ]
    }
   ],
   "source": [
    "collection_details_df = xml_to_DataFrame(collection_details)"
   ]
  },
  {
   "cell_type": "code",
   "execution_count": 80,
   "id": "mediterranean-flash",
   "metadata": {},
   "outputs": [],
   "source": [
    "collection_details_df['pmid']=collection_details_df['pmid'].astype(str)"
   ]
  },
  {
   "cell_type": "code",
   "execution_count": 81,
   "id": "finnish-trout",
   "metadata": {},
   "outputs": [
    {
     "data": {
      "text/plain": [
       "pmid                    object\n",
       "Title                   object\n",
       "Abstract                object\n",
       "Keywords                object\n",
       "Journal                 object\n",
       "Authors                 object\n",
       "Affiliations            object\n",
       "ArticleIds              object\n",
       "LatestDate      datetime64[ns]\n",
       "dtype: object"
      ]
     },
     "execution_count": 81,
     "metadata": {},
     "output_type": "execute_result"
    }
   ],
   "source": [
    "collection_details_df.dtypes"
   ]
  },
  {
   "cell_type": "code",
   "execution_count": 9,
   "id": "victorian-america",
   "metadata": {},
   "outputs": [
    {
     "ename": "NameError",
     "evalue": "name 'collection_details_df' is not defined",
     "output_type": "error",
     "traceback": [
      "\u001b[1;31m---------------------------------------------------------------------------\u001b[0m",
      "\u001b[1;31mNameError\u001b[0m                                 Traceback (most recent call last)",
      "\u001b[1;32m<ipython-input-9-36ed82698692>\u001b[0m in \u001b[0;36m<module>\u001b[1;34m\u001b[0m\n\u001b[1;32m----> 1\u001b[1;33m \u001b[0mcollection_details_df\u001b[0m\u001b[1;33m.\u001b[0m\u001b[0mhead\u001b[0m\u001b[1;33m(\u001b[0m\u001b[1;36m2\u001b[0m\u001b[1;33m)\u001b[0m\u001b[1;33m\u001b[0m\u001b[1;33m\u001b[0m\u001b[0m\n\u001b[0m",
      "\u001b[1;31mNameError\u001b[0m: name 'collection_details_df' is not defined"
     ]
    }
   ],
   "source": [
    "collection_details_df.head(2)"
   ]
  },
  {
   "cell_type": "code",
   "execution_count": 83,
   "id": "speaking-short",
   "metadata": {},
   "outputs": [
    {
     "ename": "NameError",
     "evalue": "name 'ids_repaired' is not defined",
     "output_type": "error",
     "traceback": [
      "\u001b[1;31m---------------------------------------------------------------------------\u001b[0m",
      "\u001b[1;31mNameError\u001b[0m                                 Traceback (most recent call last)",
      "\u001b[1;32m<ipython-input-83-c2b0ecea5fd6>\u001b[0m in \u001b[0;36m<module>\u001b[1;34m\u001b[0m\n\u001b[1;32m----> 1\u001b[1;33m \u001b[0mids_repaired\u001b[0m\u001b[1;33m.\u001b[0m\u001b[0mhead\u001b[0m\u001b[1;33m(\u001b[0m\u001b[1;36m2\u001b[0m\u001b[1;33m)\u001b[0m\u001b[1;33m\u001b[0m\u001b[1;33m\u001b[0m\u001b[0m\n\u001b[0m",
      "\u001b[1;31mNameError\u001b[0m: name 'ids_repaired' is not defined"
     ]
    }
   ],
   "source": [
    "ids_repaired.head(2)"
   ]
  },
  {
   "cell_type": "code",
   "execution_count": null,
   "id": "assigned-gender",
   "metadata": {},
   "outputs": [],
   "source": []
  },
  {
   "cell_type": "code",
   "execution_count": 89,
   "id": "german-summer",
   "metadata": {},
   "outputs": [],
   "source": [
    "collection_details_df1 = collection_details_df.join(ids_repaired.set_index('pmid'), how='inner', on='pmid')"
   ]
  },
  {
   "cell_type": "code",
   "execution_count": 90,
   "id": "genuine-witness",
   "metadata": {},
   "outputs": [
    {
     "data": {
      "text/html": [
       "<div>\n",
       "<style scoped>\n",
       "    .dataframe tbody tr th:only-of-type {\n",
       "        vertical-align: middle;\n",
       "    }\n",
       "\n",
       "    .dataframe tbody tr th {\n",
       "        vertical-align: top;\n",
       "    }\n",
       "\n",
       "    .dataframe thead th {\n",
       "        text-align: right;\n",
       "    }\n",
       "</style>\n",
       "<table border=\"1\" class=\"dataframe\">\n",
       "  <thead>\n",
       "    <tr style=\"text-align: right;\">\n",
       "      <th></th>\n",
       "      <th>pmid</th>\n",
       "      <th>Title</th>\n",
       "      <th>Abstract</th>\n",
       "      <th>Keywords</th>\n",
       "      <th>Journal</th>\n",
       "      <th>Authors</th>\n",
       "      <th>Affiliations</th>\n",
       "      <th>ArticleIds</th>\n",
       "      <th>LatestDate</th>\n",
       "      <th>pii</th>\n",
       "      <th>doi</th>\n",
       "      <th>pmc</th>\n",
       "      <th>mid</th>\n",
       "    </tr>\n",
       "  </thead>\n",
       "  <tbody>\n",
       "    <tr>\n",
       "      <th>0</th>\n",
       "      <td>33707255</td>\n",
       "      <td>Using digital twins in viral infection.</td>\n",
       "      <td>None</td>\n",
       "      <td>None</td>\n",
       "      <td>Science (New York, N.Y.)</td>\n",
       "      <td>Reinhard Laubenbacher\\n James P Sluka\\n James ...</td>\n",
       "      <td>Department of Medicine, University of Florida,...</td>\n",
       "      <td>33707255_371/6534/1105_10.1126/science.abf3370</td>\n",
       "      <td>2021-03-20 06:00:00</td>\n",
       "      <td>371/6534/1105</td>\n",
       "      <td>10.1126/science.abf3370</td>\n",
       "      <td>NaN</td>\n",
       "      <td>NaN</td>\n",
       "    </tr>\n",
       "    <tr>\n",
       "      <th>1</th>\n",
       "      <td>33707254</td>\n",
       "      <td>Immunity to SARS-CoV-2 variants of concern.</td>\n",
       "      <td>None</td>\n",
       "      <td>None</td>\n",
       "      <td>Science (New York, N.Y.)</td>\n",
       "      <td>Daniel M Altmann\\n Rosemary J Boyton\\n Rupert ...</td>\n",
       "      <td>Department of Immunology and Inflammation, Imp...</td>\n",
       "      <td>33707254_371/6534/1103_10.1126/science.abg7404</td>\n",
       "      <td>2021-03-17 06:00:00</td>\n",
       "      <td>371/6534/1103</td>\n",
       "      <td>10.1126/science.abg7404</td>\n",
       "      <td>NaN</td>\n",
       "      <td>NaN</td>\n",
       "    </tr>\n",
       "  </tbody>\n",
       "</table>\n",
       "</div>"
      ],
      "text/plain": [
       "       pmid                                        Title Abstract Keywords  \\\n",
       "0  33707255      Using digital twins in viral infection.     None     None   \n",
       "1  33707254  Immunity to SARS-CoV-2 variants of concern.     None     None   \n",
       "\n",
       "                    Journal  \\\n",
       "0  Science (New York, N.Y.)   \n",
       "1  Science (New York, N.Y.)   \n",
       "\n",
       "                                             Authors  \\\n",
       "0  Reinhard Laubenbacher\\n James P Sluka\\n James ...   \n",
       "1  Daniel M Altmann\\n Rosemary J Boyton\\n Rupert ...   \n",
       "\n",
       "                                        Affiliations  \\\n",
       "0  Department of Medicine, University of Florida,...   \n",
       "1  Department of Immunology and Inflammation, Imp...   \n",
       "\n",
       "                                       ArticleIds          LatestDate  \\\n",
       "0  33707255_371/6534/1105_10.1126/science.abf3370 2021-03-20 06:00:00   \n",
       "1  33707254_371/6534/1103_10.1126/science.abg7404 2021-03-17 06:00:00   \n",
       "\n",
       "             pii                      doi  pmc  mid  \n",
       "0  371/6534/1105  10.1126/science.abf3370  NaN  NaN  \n",
       "1  371/6534/1103  10.1126/science.abg7404  NaN  NaN  "
      ]
     },
     "execution_count": 90,
     "metadata": {},
     "output_type": "execute_result"
    }
   ],
   "source": [
    "collection_details_df1.head(2)"
   ]
  },
  {
   "cell_type": "code",
   "execution_count": 30,
   "id": "unexpected-appointment",
   "metadata": {},
   "outputs": [],
   "source": [
    "#ids = pd.DataFrame([x.split(sep=\"_\") for x in collection_details_df.ArticleIds], columns=['pubmed','pii', 'doi', 'pmc', 'mid'])\n",
    "\n",
    "#ids.to_excel('C:/zhijuncao/R/textming/collection_abstracts_1.xlsx')\n",
    "ids_repaired = pd.read_excel('C:/zhijuncao/R/textming/collection_abstracts.xlsx')\n",
    "ids_repaired.rename(columns={\"pubmed\":\"pmid\"}, inplace=True)\n"
   ]
  },
  {
   "cell_type": "code",
   "execution_count": 31,
   "id": "willing-header",
   "metadata": {},
   "outputs": [],
   "source": [
    "ids_repaired['pmid']=ids_repaired['pmid'].astype(str)"
   ]
  },
  {
   "cell_type": "code",
   "execution_count": 32,
   "id": "democratic-silly",
   "metadata": {},
   "outputs": [
    {
     "data": {
      "text/plain": [
       "pmid    object\n",
       "pii     object\n",
       "doi     object\n",
       "pmc     object\n",
       "mid     object\n",
       "dtype: object"
      ]
     },
     "execution_count": 32,
     "metadata": {},
     "output_type": "execute_result"
    }
   ],
   "source": [
    "ids_repaired.dtypes"
   ]
  },
  {
   "cell_type": "code",
   "execution_count": 33,
   "id": "communist-spotlight",
   "metadata": {},
   "outputs": [],
   "source": [
    "import time\n",
    "import tqdm\n",
    "#import pickle"
   ]
  },
  {
   "cell_type": "code",
   "execution_count": null,
   "id": "distinct-track",
   "metadata": {},
   "outputs": [],
   "source": []
  },
  {
   "cell_type": "code",
   "execution_count": 34,
   "id": "correct-lender",
   "metadata": {},
   "outputs": [
    {
     "data": {
      "text/plain": [
       "1    https://science.sciencemag.org/content/371/653...\n",
       "2    https://science.sciencemag.org/content/371/653...\n",
       "Name: pii, dtype: object"
      ]
     },
     "execution_count": 34,
     "metadata": {},
     "output_type": "execute_result"
    }
   ],
   "source": [
    "urls = 'https://science.sciencemag.org/content/' +ids_repaired.pii + '.long'\n",
    "urls[1:3]"
   ]
  },
  {
   "cell_type": "code",
   "execution_count": 35,
   "id": "overall-mauritius",
   "metadata": {},
   "outputs": [],
   "source": [
    "def get_science_web_content(url=\"https://science.sciencemag.org/content/371/6533/1019.long\"):\n",
    "    url = url\n",
    "    html = requests.get(url)\n",
    "    web = BeautifulSoup(html.content, \"html.parser\")\n",
    "    return web\n",
    "\n",
    "def get_science_pages(web):\n",
    "    pages = web.find_all('p',id=True)\n",
    "    return pages\n",
    "\n",
    "def get_science_full_text(web):\n",
    "    title = web.find(\"title\").get_text()\n",
    "    p_text = [p.get_text() for p in web.find_all('p',id=True)]\n",
    "    p_text = p_text\n",
    "    fulltext = \"\\n\". join(p_text)\n",
    "    return fulltext, title"
   ]
  },
  {
   "cell_type": "code",
   "execution_count": 46,
   "id": "wired-handle",
   "metadata": {},
   "outputs": [
    {
     "name": "stderr",
     "output_type": "stream",
     "text": [
      "100%|██████████| 31/31 [01:51<00:00,  3.61s/it]\n"
     ]
    }
   ],
   "source": [
    "html_content=[]\n",
    "for url in tqdm.tqdm(urls):\n",
    "    html = requests.get(url)\n",
    "    html_content.append(html.content)\n",
    "    time.sleep(2)"
   ]
  },
  {
   "cell_type": "code",
   "execution_count": 60,
   "id": "herbal-answer",
   "metadata": {},
   "outputs": [],
   "source": [
    "i = 0\n",
    "for web in html_content:\n",
    "    file = f'C:/zhijuncao/R/textming/sciencehtml/paper{i}.html' \n",
    "    with open (file, 'wb') as f:\n",
    "        f.write(web)\n",
    "    i = i+1"
   ]
  },
  {
   "cell_type": "code",
   "execution_count": 119,
   "id": "respective-garden",
   "metadata": {},
   "outputs": [],
   "source": [
    "web_pages=[]\n",
    "titles = []\n",
    "for content in html_content:\n",
    "    soup=BeautifulSoup(content, \"html.parser\")\n",
    "    \n",
    "    all_pages=soup.find_all('p', id=True)\n",
    "    pages='\\n'.join([p.text for p in all_pages if p.attrs.get('id') not in ['p-1','p-2']])\n",
    "    web_pages.append(pages)\n",
    "    titles.append(soup.find(\"title\").get_text())"
   ]
  },
  {
   "cell_type": "code",
   "execution_count": 120,
   "id": "governmental-advertising",
   "metadata": {},
   "outputs": [],
   "source": [
    "full_df = pd.DataFrame({'title':titles, 'urls':url, \"full_text\":web_pages})\n"
   ]
  },
  {
   "cell_type": "code",
   "execution_count": 168,
   "id": "recovered-chick",
   "metadata": {},
   "outputs": [],
   "source": [
    "#BeautifulSoup(html_content[30],\"html.parser\").find_all('p', id=True)"
   ]
  },
  {
   "cell_type": "code",
   "execution_count": 127,
   "id": "complex-declaration",
   "metadata": {},
   "outputs": [],
   "source": [
    "full_df.to_excel('C:/zhijuncao/R/textming/urls_full_text.xlsx')"
   ]
  },
  {
   "cell_type": "code",
   "execution_count": 128,
   "id": "aware-decrease",
   "metadata": {},
   "outputs": [],
   "source": [
    "full_df.to_json('C:/zhijuncao/R/textming/urls_full_text.json')"
   ]
  },
  {
   "cell_type": "code",
   "execution_count": 252,
   "id": "sitting-broadway",
   "metadata": {},
   "outputs": [],
   "source": [
    "full_abstract = collection_details_df1.join(full_df)"
   ]
  },
  {
   "cell_type": "code",
   "execution_count": 254,
   "id": "generous-democracy",
   "metadata": {},
   "outputs": [],
   "source": [
    "full_abstract.to_excel('C:/zhijuncao/R/textming/collection_full_abstracts.xlsx')"
   ]
  },
  {
   "cell_type": "code",
   "execution_count": 255,
   "id": "alike-society",
   "metadata": {},
   "outputs": [],
   "source": [
    "full_abstract.to_json('C:/zhijuncao/R/textming/collection_full_abstracts.json')"
   ]
  },
  {
   "cell_type": "code",
   "execution_count": 256,
   "id": "funded-shield",
   "metadata": {},
   "outputs": [],
   "source": [
    "html = requests.get(urls[0])\n",
    "soup = BeautifulSoup(html.content, \"html.parser\")"
   ]
  },
  {
   "cell_type": "code",
   "execution_count": 270,
   "id": "engaging-ocean",
   "metadata": {},
   "outputs": [],
   "source": [
    "#pprint(soup.find_all('p',id=True))"
   ]
  },
  {
   "cell_type": "code",
   "execution_count": null,
   "id": "disciplinary-structure",
   "metadata": {},
   "outputs": [],
   "source": [
    "full_abstract.dtypes"
   ]
  },
  {
   "cell_type": "code",
   "execution_count": null,
   "id": "cross-diving",
   "metadata": {},
   "outputs": [],
   "source": []
  }
 ],
 "metadata": {
  "kernelspec": {
   "display_name": "Python 3",
   "language": "python",
   "name": "python3"
  },
  "language_info": {
   "codemirror_mode": {
    "name": "ipython",
    "version": 3
   },
   "file_extension": ".py",
   "mimetype": "text/x-python",
   "name": "python",
   "nbconvert_exporter": "python",
   "pygments_lexer": "ipython3",
   "version": "3.8.8"
  }
 },
 "nbformat": 4,
 "nbformat_minor": 5
}
