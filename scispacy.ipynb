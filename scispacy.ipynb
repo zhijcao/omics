{
 "cells": [
  {
   "cell_type": "code",
   "execution_count": null,
   "id": "overhead-quest",
   "metadata": {},
   "outputs": [],
   "source": [
    "import warnings\n",
    "warnings.simplefilter(action='ignore', category=[FutureWarning, DeprecationWarning])"
   ]
  },
  {
   "cell_type": "code",
   "execution_count": null,
   "id": "expected-survival",
   "metadata": {},
   "outputs": [],
   "source": [
    "import spacy\n",
    "import scispacy\n",
    "from scispacy.abbreviation import AbbreviationDetector\n",
    "from scispacy.linking import EntityLinker"
   ]
  },
  {
   "cell_type": "code",
   "execution_count": null,
   "id": "american-morgan",
   "metadata": {},
   "outputs": [],
   "source": [
    "import gensim\n",
    "import gensim.corpora as corpora\n",
    "from gensim.utils import simple_preprocess\n",
    "from gensim.models import CoherenceModel"
   ]
  },
  {
   "cell_type": "code",
   "execution_count": null,
   "id": "under-sociology",
   "metadata": {},
   "outputs": [],
   "source": [
    "import pandas as pd"
   ]
  },
  {
   "cell_type": "code",
   "execution_count": null,
   "id": "raised-induction",
   "metadata": {},
   "outputs": [],
   "source": [
    "doc = pd.read_csv(\"C:/zhijuncao/R/textming/protomicscovid19.csv\")\n",
    "doc.dropna(subset=[\"abstract\"], inplace=True)"
   ]
  },
  {
   "cell_type": "code",
   "execution_count": null,
   "id": "herbal-wales",
   "metadata": {},
   "outputs": [],
   "source": [
    "doc.shape"
   ]
  },
  {
   "cell_type": "code",
   "execution_count": null,
   "id": "early-academy",
   "metadata": {},
   "outputs": [],
   "source": [
    "nlp = spacy.load(\"en_core_sci_lg\")\n"
   ]
  },
  {
   "cell_type": "code",
   "execution_count": null,
   "id": "robust-barcelona",
   "metadata": {},
   "outputs": [],
   "source": [
    "nlp.pipe_names"
   ]
  },
  {
   "cell_type": "code",
   "execution_count": null,
   "id": "divine-canal",
   "metadata": {},
   "outputs": [],
   "source": [
    "newdoc = doc[\"abstract\"]"
   ]
  },
  {
   "cell_type": "code",
   "execution_count": null,
   "id": "coral-array",
   "metadata": {},
   "outputs": [],
   "source": [
    "doc_list = []\n",
    "# Iterates through each article in the corpus.\n",
    "for doc in newdoc:\n",
    "    # Passes that article through the pipeline and adds to a new list.\n",
    "    pr = nlp(doc)\n",
    "    doc_list.append(pr)"
   ]
  },
  {
   "cell_type": "code",
   "execution_count": null,
   "id": "accessory-importance",
   "metadata": {
    "scrolled": true
   },
   "outputs": [],
   "source": [
    "doc_text = [[ent.text for ent in doc.ents] for doc in doc_list]"
   ]
  },
  {
   "cell_type": "code",
   "execution_count": null,
   "id": "subtle-length",
   "metadata": {
    "scrolled": true
   },
   "outputs": [],
   "source": [
    "doc_text[1]"
   ]
  },
  {
   "cell_type": "code",
   "execution_count": null,
   "id": "seven-protein",
   "metadata": {},
   "outputs": [],
   "source": [
    "# Creates, which is a mapping of word IDs to words.\n",
    "id2word = corpora.Dictionary(doc_text)\n",
    "\n",
    "# Turns each document into a bag of words.\n",
    "corpus = [id2word.doc2bow(doc) for doc in doc_text]"
   ]
  },
  {
   "cell_type": "code",
   "execution_count": null,
   "id": "adjustable-arlington",
   "metadata": {},
   "outputs": [],
   "source": [
    "lda_model = gensim.models.ldamodel.LdaModel(corpus=corpus,\n",
    "                                           id2word=id2word,\n",
    "                                           num_topics=15, \n",
    "                                           random_state=2,\n",
    "                                           update_every=1,\n",
    "                                           passes=10,\n",
    "                                           alpha='auto',\n",
    "                                           per_word_topics=True\n",
    "                                          )"
   ]
  },
  {
   "cell_type": "code",
   "execution_count": null,
   "id": "available-camping",
   "metadata": {},
   "outputs": [],
   "source": [
    "import pyLDAvis\n",
    "import pyLDAvis.gensim"
   ]
  },
  {
   "cell_type": "code",
   "execution_count": null,
   "id": "engaging-times",
   "metadata": {},
   "outputs": [],
   "source": [
    "pyLDAvis.enable_notebook()"
   ]
  },
  {
   "cell_type": "code",
   "execution_count": null,
   "id": "ideal-camera",
   "metadata": {},
   "outputs": [],
   "source": [
    "vis = pyLDAvis.gensim.prepare(lda_model, corpus, dictionary=lda_model.id2word)"
   ]
  },
  {
   "cell_type": "code",
   "execution_count": null,
   "id": "valued-reference",
   "metadata": {},
   "outputs": [],
   "source": [
    "vis\n"
   ]
  },
  {
   "cell_type": "code",
   "execution_count": null,
   "id": "temporal-parallel",
   "metadata": {},
   "outputs": [],
   "source": [
    "# Metabolomics/Proteomics and toxcicity"
   ]
  },
  {
   "cell_type": "code",
   "execution_count": null,
   "id": "administrative-attitude",
   "metadata": {},
   "outputs": [],
   "source": []
  },
  {
   "cell_type": "code",
   "execution_count": null,
   "id": "backed-wireless",
   "metadata": {},
   "outputs": [],
   "source": []
  }
 ],
 "metadata": {
  "kernelspec": {
   "display_name": "Python 3",
   "language": "python",
   "name": "python3"
  },
  "language_info": {
   "codemirror_mode": {
    "name": "ipython",
    "version": 3
   },
   "file_extension": ".py",
   "mimetype": "text/x-python",
   "name": "python",
   "nbconvert_exporter": "python",
   "pygments_lexer": "ipython3",
   "version": "3.8.8"
  }
 },
 "nbformat": 4,
 "nbformat_minor": 5
}
