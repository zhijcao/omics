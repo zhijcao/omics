{
 "cells": [
  {
   "cell_type": "markdown",
   "id": "regular-collar",
   "metadata": {},
   "source": [
    "### Run MaxQuant on workstation (High Disk 36, submitted: job-G3Gzfzj0yyKx8vgj2q01B4Yf-1)"
   ]
  },
  {
   "cell_type": "markdown",
   "id": "designing-cookbook",
   "metadata": {},
   "source": [
    "## 1. Download LCMS data files and unzip "
   ]
  },
  {
   "cell_type": "code",
   "execution_count": null,
   "id": "derived-director",
   "metadata": {},
   "outputs": [],
   "source": [
    "dx download negative_COVS007453_01_S1-C1_1_2384.d.zip,positive_COVS008317_02_S1-C2_1_2385.d.zip\n",
    "unzip \"*.d.zip\""
   ]
  },
  {
   "cell_type": "markdown",
   "id": "formed-blink",
   "metadata": {},
   "source": [
    "## 2. Download and install .net 2.1"
   ]
  },
  {
   "cell_type": "code",
   "execution_count": null,
   "id": "technological-french",
   "metadata": {},
   "outputs": [],
   "source": [
    "dx download dotnet-install.sh\n",
    "chmod +x dotnet-install.sh\n",
    "\n",
    "./dotnet-install.sh -c 2.1"
   ]
  },
  {
   "cell_type": "markdown",
   "id": "external-abuse",
   "metadata": {},
   "source": [
    "## 3. Download Maxquant application, protein sequence database, and parameter files"
   ]
  },
  {
   "cell_type": "code",
   "execution_count": null,
   "id": "special-anthony",
   "metadata": {},
   "outputs": [],
   "source": [
    "dx download MaxQuant_2.0.1.0.zip\n",
    "unzip MaxQuant_2.0.1.0.zip\n",
    "\n",
    "dx download uniprot_Homo_9606_review20210624.fasta\n",
    "\n",
    "dx download timsdda_mqpar2s_10cores.xml"
   ]
  },
  {
   "cell_type": "markdown",
   "id": "closing-cooper",
   "metadata": {},
   "source": [
    "## 4. Run MaxQuant (10 threads)"
   ]
  },
  {
   "cell_type": "code",
   "execution_count": null,
   "id": "electoral-nowhere",
   "metadata": {},
   "outputs": [],
   "source": [
    "nohup ./.dotnet/dotnet ./MaxQuant_2.0.1.0/bin/MaxQuantCmd.exe ./timsdda_mqpar2s_10cores.xml &"
   ]
  }
 ],
 "metadata": {
  "kernelspec": {
   "display_name": "Python 3",
   "language": "python",
   "name": "python3"
  },
  "language_info": {
   "codemirror_mode": {
    "name": "ipython",
    "version": 3
   },
   "file_extension": ".py",
   "mimetype": "text/x-python",
   "name": "python",
   "nbconvert_exporter": "python",
   "pygments_lexer": "ipython3",
   "version": "3.8.8"
  }
 },
 "nbformat": 4,
 "nbformat_minor": 5
}
